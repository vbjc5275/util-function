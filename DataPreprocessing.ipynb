{
 "cells": [
  {
   "cell_type": "markdown",
   "metadata": {},
   "source": [
    "# import package"
   ]
  },
  {
   "cell_type": "code",
   "execution_count": 2,
   "metadata": {},
   "outputs": [],
   "source": [
    "import os\n",
    "import pandas as pd\n",
    "import numpy as np\n",
    "from collections import defaultdict\n",
    "import seaborn as sns\n",
    "\n",
    "# Apply the default theme\n",
    "sns.set_style(\"whitegrid\")\n",
    "import matplotlib.pyplot as plt\n",
    "plt.rcParams['font.sans-serif'] = ['Microsoft JhengHei'] \n",
    "plt.rcParams['axes.unicode_minus'] = False"
   ]
  },
  {
   "cell_type": "markdown",
   "metadata": {},
   "source": [
    "# read data\n",
    "time series data"
   ]
  },
  {
   "cell_type": "code",
   "execution_count": 10,
   "metadata": {},
   "outputs": [
    {
     "data": {
      "text/html": [
       "<div>\n",
       "<style scoped>\n",
       "    .dataframe tbody tr th:only-of-type {\n",
       "        vertical-align: middle;\n",
       "    }\n",
       "\n",
       "    .dataframe tbody tr th {\n",
       "        vertical-align: top;\n",
       "    }\n",
       "\n",
       "    .dataframe thead th {\n",
       "        text-align: right;\n",
       "    }\n",
       "</style>\n",
       "<table border=\"1\" class=\"dataframe\">\n",
       "  <thead>\n",
       "    <tr style=\"text-align: right;\">\n",
       "      <th></th>\n",
       "      <th>FB IMP</th>\n",
       "      <th>FB Clicks</th>\n",
       "      <th>FB Spending</th>\n",
       "      <th>GDN IMP</th>\n",
       "      <th>GDN Clicks</th>\n",
       "      <th>GDN Spending</th>\n",
       "    </tr>\n",
       "    <tr>\n",
       "      <th>日期</th>\n",
       "      <th></th>\n",
       "      <th></th>\n",
       "      <th></th>\n",
       "      <th></th>\n",
       "      <th></th>\n",
       "      <th></th>\n",
       "    </tr>\n",
       "  </thead>\n",
       "  <tbody>\n",
       "    <tr>\n",
       "      <th>2018-06-01</th>\n",
       "      <td>56990</td>\n",
       "      <td>1398</td>\n",
       "      <td>3913</td>\n",
       "      <td>104224.0</td>\n",
       "      <td>358.0</td>\n",
       "      <td>1106.163631</td>\n",
       "    </tr>\n",
       "    <tr>\n",
       "      <th>2018-06-02</th>\n",
       "      <td>51023</td>\n",
       "      <td>1245</td>\n",
       "      <td>4699</td>\n",
       "      <td>127222.0</td>\n",
       "      <td>404.0</td>\n",
       "      <td>1005.577744</td>\n",
       "    </tr>\n",
       "    <tr>\n",
       "      <th>2018-06-03</th>\n",
       "      <td>51205</td>\n",
       "      <td>1240</td>\n",
       "      <td>4682</td>\n",
       "      <td>113703.0</td>\n",
       "      <td>348.0</td>\n",
       "      <td>865.566598</td>\n",
       "    </tr>\n",
       "    <tr>\n",
       "      <th>2018-06-04</th>\n",
       "      <td>53377</td>\n",
       "      <td>1338</td>\n",
       "      <td>4769</td>\n",
       "      <td>77122.0</td>\n",
       "      <td>358.0</td>\n",
       "      <td>880.166752</td>\n",
       "    </tr>\n",
       "    <tr>\n",
       "      <th>2018-06-05</th>\n",
       "      <td>51903</td>\n",
       "      <td>1239</td>\n",
       "      <td>4753</td>\n",
       "      <td>122233.0</td>\n",
       "      <td>494.0</td>\n",
       "      <td>1218.975700</td>\n",
       "    </tr>\n",
       "  </tbody>\n",
       "</table>\n",
       "</div>"
      ],
      "text/plain": [
       "            FB IMP  FB Clicks  FB Spending   GDN IMP  GDN Clicks  GDN Spending\n",
       "日期                                                                            \n",
       "2018-06-01   56990       1398         3913  104224.0       358.0   1106.163631\n",
       "2018-06-02   51023       1245         4699  127222.0       404.0   1005.577744\n",
       "2018-06-03   51205       1240         4682  113703.0       348.0    865.566598\n",
       "2018-06-04   53377       1338         4769   77122.0       358.0    880.166752\n",
       "2018-06-05   51903       1239         4753  122233.0       494.0   1218.975700"
      ]
     },
     "execution_count": 10,
     "metadata": {},
     "output_type": "execute_result"
    }
   ],
   "source": [
    "df = pd.read_csv(\"data/ads.csv\",index_col='日期',parse_dates=True)\n",
    "df.index  = pd.to_datetime(df.index,format=\"%Y年%m月%d日\")\n",
    "\n",
    "df.head()"
   ]
  },
  {
   "cell_type": "markdown",
   "metadata": {},
   "source": [
    "# get missing value"
   ]
  },
  {
   "cell_type": "code",
   "execution_count": 11,
   "metadata": {},
   "outputs": [
    {
     "name": "stdout",
     "output_type": "stream",
     "text": [
      "[Timestamp('2018-06-27 00:00:00', freq='D')]\n"
     ]
    }
   ],
   "source": [
    "def get_missing_date(df,start_date = None,end_date = None):\n",
    "    '''get missing dates of dataframe in the specified data range，\n",
    "    if not specified, earliest date and latest date in default\n",
    "    '''\n",
    "    \n",
    "    if not start_date:\n",
    "        start_date = min(df.index)\n",
    "    if not end_date:\n",
    "        end_date = max(df.index)\n",
    "        \n",
    "    date_index = pd.date_range(start=start_date,end=end_date)\n",
    "    missing_date = []\n",
    "    for date in date_index:\n",
    "        if(date not in df.index):\n",
    "            missing_date.append(date)\n",
    "    return missing_date\n",
    "\n",
    "missing_date = get_missing_date(df,start_date='2018-06-01',end_date='2018-6-30')\n",
    "print(missing_date)"
   ]
  },
  {
   "cell_type": "code",
   "execution_count": 12,
   "metadata": {},
   "outputs": [
    {
     "name": "stdout",
     "output_type": "stream",
     "text": [
      "   FB IMP  FB Clicks  FB Spending  GDN IMP  GDN Clicks  GDN Spending   Month\n",
      "0       0          0            0        4           4             4  2018/6\n"
     ]
    }
   ],
   "source": [
    "def get_missing_count_by_month(df):\n",
    "    times = []\n",
    "    missing_df = defaultdict(list)\n",
    "    years = np.unique(df.index.year)\n",
    "    months = np.unique(df.index.month)\n",
    "    for y in years:\n",
    "        for m in months:\n",
    "            times.append(f\"{y}/{m}\")\n",
    "            the_month_df = df[(df.index.year==y) & (df.index.month==m)]\n",
    "            for col in df.columns:\n",
    "                missing_count = the_month_df[col].isnull().sum()\n",
    "                missing_df[col].append(missing_count)\n",
    "    missing_df = pd.DataFrame(missing_df)\n",
    "    missing_df.insert(0,\"Month\",times)\n",
    "    return missing_df\n",
    "\n",
    "missing_df = get_missing_count_by_month(df)\n",
    "print(missing_df)"
   ]
  },
  {
   "cell_type": "code",
   "execution_count": null,
   "metadata": {},
   "outputs": [],
   "source": []
  }
 ],
 "metadata": {
  "kernelspec": {
   "display_name": "Python 3",
   "language": "python",
   "name": "python3"
  },
  "language_info": {
   "codemirror_mode": {
    "name": "ipython",
    "version": 3
   },
   "file_extension": ".py",
   "mimetype": "text/x-python",
   "name": "python",
   "nbconvert_exporter": "python",
   "pygments_lexer": "ipython3",
   "version": "3.7.6"
  }
 },
 "nbformat": 4,
 "nbformat_minor": 4
}
